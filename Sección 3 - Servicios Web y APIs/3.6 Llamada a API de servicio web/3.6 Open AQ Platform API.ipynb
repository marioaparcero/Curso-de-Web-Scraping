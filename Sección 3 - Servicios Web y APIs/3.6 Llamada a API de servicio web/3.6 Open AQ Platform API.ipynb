{
 "cells": [
  {
   "cell_type": "code",
   "execution_count": 1,
   "metadata": {},
   "outputs": [
    {
     "name": "stdout",
     "output_type": "stream",
     "text": [
      "Introduzca las siglas del país (por ejemplo ES): ES\n",
      "Illes Balears\n",
      "Santa Cruz de Tenerife\n",
      "San Roque\n",
      "Pontevedra\n",
      "Madrid\n",
      "Barcelona\n",
      "Granada\n",
      "Cádiz\n",
      "A Coruña\n",
      "Cantabria\n",
      "Bizkaia\n",
      "Zaragoza\n",
      "Tarragona\n",
      "Girona\n",
      "Mojacar\n",
      "Cadiz\n",
      "Carboneras\n",
      "Malaga\n",
      "CCAA Cataluña\n",
      "CCAA Castilla y León\n",
      "EMEP/VAG/CAMP\n",
      "CCAA Extremadura\n",
      "CCAA Com. Valenciana\n",
      "Ayto Madrid\n",
      "CCAA Madrid\n",
      "CCAA Andalucía\n",
      "CCAA Castilla y Le�n\n",
      "CCAA Cast. la Mancha\n",
      "Asturias\n",
      "Valencia/València\n",
      "Espiel\n",
      "San Nicolas Del Puerto\n",
      "Castellón/Castelló\n",
      "León\n",
      "CCAA Galicia\n",
      "Ayto Zaragoza\n",
      "CCAA Pa�s Vasco\n",
      "CCAA Andaluc�a\n",
      "Navarra\n",
      "Almería\n",
      "Huelva\n",
      "Toledo\n",
      "Sevilla\n",
      "Ciudad Real\n",
      "Zamora\n",
      "CCAA Islas Baleares\n",
      "CCAA Catalu�a\n",
      "CCAA Cantabria\n",
      "CCAA Arag�n\n",
      "Villanueva Del Arzobispo\n"
     ]
    }
   ],
   "source": [
    "import urllib.request\n",
    "import json\n",
    "\n",
    "url1 = 'https://api.openaq.org/v1/cities'\n",
    "\n",
    "pais = input('Introduzca las siglas del país (por ejemplo ES): ')\n",
    "\n",
    "url2 = url1 + '?country=' + pais\n",
    "\n",
    "datos = urllib.request.urlopen(url2).read().decode()\n",
    "\n",
    "js = json.loads(datos)\n",
    "\n",
    "for k in range(50):\n",
    "    city = js['results'][k]['city']\n",
    "    print(city)"
   ]
  },
  {
   "cell_type": "code",
   "execution_count": 3,
   "metadata": {},
   "outputs": [
    {
     "name": "stdout",
     "output_type": "stream",
     "text": [
      "Introduzca el nombre de una ciudad Madrid\n",
      "El valor de  co  en Madrid es de  300 µg/m³\n"
     ]
    }
   ],
   "source": [
    "ciudad = input('Introduzca el nombre de una ciudad ')\n",
    "\n",
    "url1 = 'https://api.openaq.org/v1/latest'\n",
    "\n",
    "url2 = url1 + '?limit=1&city=' + ciudad\n",
    "\n",
    "data = urllib.request.urlopen(url2).read().decode()\n",
    "\n",
    "js = json.loads(data)\n",
    "parameter = js['results'][0]['measurements'][1]['parameter']\n",
    "valor = js['results'][0]['measurements'][1]['value']\n",
    "unidades = js['results'][0]['measurements'][1]['unit']\n",
    "\n",
    "print('El valor de ',parameter,' en', ciudad, 'es de ',valor,unidades)"
   ]
  }
 ],
 "metadata": {
  "kernelspec": {
   "display_name": "Python 3",
   "language": "python",
   "name": "python3"
  },
  "language_info": {
   "codemirror_mode": {
    "name": "ipython",
    "version": 3
   },
   "file_extension": ".py",
   "mimetype": "text/x-python",
   "name": "python",
   "nbconvert_exporter": "python",
   "pygments_lexer": "ipython3",
   "version": "3.6.6"
  }
 },
 "nbformat": 4,
 "nbformat_minor": 2
}
