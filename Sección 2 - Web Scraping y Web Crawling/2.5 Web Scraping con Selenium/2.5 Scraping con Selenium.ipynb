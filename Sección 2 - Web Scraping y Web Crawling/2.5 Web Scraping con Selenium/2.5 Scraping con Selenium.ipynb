{
 "cells": [
  {
   "cell_type": "code",
   "execution_count": null,
   "metadata": {},
   "outputs": [],
   "source": [
    "# Instalación de la librería selenium\n",
    "import sys\n",
    "!{sys.executable} -m pip install -U selenium"
   ]
  },
  {
   "cell_type": "code",
   "execution_count": 17,
   "metadata": {},
   "outputs": [
    {
     "name": "stdout",
     "output_type": "stream",
     "text": [
      "Iniciando Scraper\n"
     ]
    }
   ],
   "source": [
    "#!/usr/bin/env python\n",
    "# -*- coding: utf-8 -*-\n",
    "# Scrapper de las estaciones de la red SIAR\n",
    "\n",
    "print('Iniciando Scraper')\n",
    "import zipfile\n",
    "import os\n",
    "from selenium import webdriver\n",
    "from selenium.webdriver.common.keys import Keys\n",
    "import time\n",
    "\n",
    "chromeOptions = webdriver.ChromeOptions()\n",
    "prefs = {\"download.default_directory\" : os.getcwd()+\"/Resultados Selenium\"} # Cambiamos la carpeta en la que se descargará el fichero\n",
    "chromeOptions.add_experimental_option(\"prefs\",prefs)\n",
    "driver = webdriver.Chrome(\"chromedriver.exe\",options=chromeOptions)\n",
    "driver.get('http://eportal.mapama.gob.es/websiar/SeleccionParametrosMap.aspx?dst=1') # Web de la que queremos extraer datos\n",
    "\n",
    "\n",
    "value_ccaa=8 # Comunidad autonoma\n",
    "value_ccaa_string = str(value_ccaa)\n",
    "string_ccaa = 'select[name=\"ctl00$ContentPlaceHolder1$DropDownListCCAA\"] option[value=\"'+value_ccaa_string+'\"]'\n",
    "desplegable_ccaa = driver.find_element_by_css_selector(string_ccaa)\n",
    "click_desplegable_ccaa = desplegable_ccaa.click()\n",
    "\n",
    "time.sleep(2)\n",
    "\n",
    "value_prov=50 # Provincia\n",
    "value_prov_string = str(value_prov)\n",
    "string_prov = 'select[name=\"ctl00$ContentPlaceHolder1$DropDownListProvincia\"] option[value=\"'+value_prov_string+'\"]'\n",
    "desplegable_prov = driver.find_element_by_css_selector(string_prov)\n",
    "click_desplegable_prov = desplegable_prov.click()\n",
    "\n",
    "time.sleep(2)\n",
    "\n",
    "value_est=2 # Estacion\n",
    "value_est_string = str(value_est)\n",
    "string_est = 'select[name=\"ctl00$ContentPlaceHolder1$DropDownListEstacion\"] option[value=\"'+value_est_string+'\"]'\n",
    "desplegable_est = driver.find_element_by_css_selector(string_est)\n",
    "click_desplegable_est = desplegable_est.click()\n",
    "\n",
    "time.sleep(2)\n",
    "\n",
    "agregar_estacion = driver.find_element_by_css_selector('input[name=\"ctl00$ContentPlaceHolder1$ButtonAgregar\"]')\n",
    "click_agregar_estacion=agregar_estacion.click() # Botón para agregar estación climática\n",
    "\n",
    "time.sleep(0.5)\n",
    "\n",
    "driver.find_element_by_id('txtFechaIni').clear() # Borra la fecha de inicio por defecto\n",
    "\n",
    "time.sleep(0.5)\n",
    "\n",
    "driver.find_element_by_id('txtFechaFin').clear() # Borra la fecha fin por defecto\n",
    "\n",
    "time.sleep(2)\n",
    "\n",
    "inputElement = driver.find_element_by_id(\"txtFechaIni\")\n",
    "inputElement.send_keys('10/11/2018') # Fecha de Inicio\n",
    "\n",
    "time.sleep(2)\n",
    "\n",
    "inputElement = driver.find_element_by_id(\"txtFechaFin\")\n",
    "inputElement.send_keys('15/11/2018') # Fecha de fin\n",
    "\n",
    "time.sleep(2)\n",
    "\n",
    "consultar_datos_button = driver.find_element_by_css_selector('input[name=\"ctl00$ContentPlaceHolder1$btnConsultar\"]')\n",
    "consultar_datos = consultar_datos_button.click() # Botón de consultar datos\n",
    "\n",
    "time.sleep(2)\n",
    "\n",
    "driver.switch_to.window(driver.window_handles[1])\n",
    "exportar_csv_link = driver.find_element_by_css_selector('a[id=\"ContentPlaceHolder1_ExportarCSV\"]')\n",
    "descargar_csv = exportar_csv_link.click() # Botón de exportar csv\n",
    "\n",
    "time.sleep(2)\n",
    "\n",
    "driver.quit() # Cierra el navegador\n",
    "\n",
    "\n",
    "zip_ref = zipfile.ZipFile('Resultados Selenium/InformeDatos.zip', 'r') # Carga el zip de salida guardado en \"Resultados Selenium\"\n",
    "zip_ref.extractall(\"Resultados Selenium/\") # Extrae el fichero csv del zip \n",
    "zip_ref.close()\n",
    "os.remove('Resultados Selenium/InformeDatos.zip') # Borra el archivo 'ImportarDatos.zip'"
   ]
  }
 ],
 "metadata": {
  "kernelspec": {
   "display_name": "Python 3",
   "language": "python",
   "name": "python3"
  },
  "language_info": {
   "codemirror_mode": {
    "name": "ipython",
    "version": 3
   },
   "file_extension": ".py",
   "mimetype": "text/x-python",
   "name": "python",
   "nbconvert_exporter": "python",
   "pygments_lexer": "ipython3",
   "version": "3.6.6"
  }
 },
 "nbformat": 4,
 "nbformat_minor": 2
}
